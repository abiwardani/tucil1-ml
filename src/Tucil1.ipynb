{
 "cells": [
  {
   "cell_type": "code",
   "execution_count": null,
   "id": "1b363ee6",
   "metadata": {},
   "outputs": [],
   "source": []
  },
  {
   "cell_type": "code",
   "execution_count": 265,
   "id": "720a12f3",
   "metadata": {},
   "outputs": [],
   "source": [
    "from sklearn.datasets import load_breast_cancer\n",
    "\n",
    "from sklearn.model_selection import train_test_split\n",
    "from sklearn.preprocessing import StandardScaler, LabelEncoder\n",
    "\n",
    "from sklearn.linear_model import LogisticRegression\n",
    "from sklearn.neural_network import MLPClassifier\n",
    "from sklearn.svm import SVC\n",
    "\n",
    "import matplotlib.pyplot as plt\n",
    "\n",
    "import pandas as pd\n",
    "\n"
   ]
  },
  {
   "cell_type": "code",
   "execution_count": 266,
   "id": "b8d62405",
   "metadata": {},
   "outputs": [],
   "source": [
    "# Set random state for project\n",
    "RD_STATE = 1\n",
    "\n",
    "# Load breast cancer dataset\n",
    "bc_data = load_breast_cancer()\n",
    "\n",
    "# Pisahkan menjadi training set (80%) dan testing set (20%)\n",
    "bc_X_train, bc_X_test, bc_y_train, bc_y_test = train_test_split(bc_data.data, bc_data.target, test_size=0.2, random_state=RD_STATE)"
   ]
  },
  {
   "cell_type": "code",
   "execution_count": 267,
   "id": "26a152eb",
   "metadata": {},
   "outputs": [],
   "source": [
    "# Load play tennis dataset\n",
    "pt_df_raw = pd.read_csv(\"play_tennis.csv\")\n",
    "pt_df = pt_df_raw.copy()\n",
    "\n",
    "# Label encoding\n",
    "le = LabelEncoder()\n",
    "pt_classes = {}\n",
    "for column in pt_df.columns:\n",
    "    le.fit(pt_df[column])\n",
    "    pt_df[column] = le.transform(pt_df[column])\n",
    "    pt_classes[column] = le.classes_\n",
    "pt_X_train, pt_X_test, pt_y_train, pt_y_test = train_test_split(pt_df.iloc[:, 1:-1], pt_df.iloc[:, -1:], test_size=0.2, random_state=RD_STATE)"
   ]
  },
  {
   "cell_type": "code",
   "execution_count": 268,
   "id": "bebaa1f8",
   "metadata": {},
   "outputs": [
    {
     "name": "stdout",
     "output_type": "stream",
     "text": [
      "Logistic Regression accuracy on breast cancer dataset: 0.9736842105263158\n",
      "Logistic Regression accuracy on play tennis dataset: 0.6666666666666666\n"
     ]
    }
   ],
   "source": [
    "# Logistic Regression\n",
    "\n",
    "# Data preprocessing: normalisasi data agar setiap feature memiliki orde magnituda yang sama\n",
    "bc_scaler = StandardScaler().fit(bc_data.data)\n",
    "bc_X_train_scaled = bc_scaler.transform(bc_X_train)\n",
    "bc_X_test_scaled = bc_scaler.transform(bc_X_test)\n",
    "\n",
    "pt_scaler = StandardScaler().fit(pt_df.iloc[:, 1:-1])\n",
    "pt_X_train_scaled = pt_scaler.transform(pt_X_train)\n",
    "pt_X_test_scaled = pt_scaler.transform(pt_X_test)\n",
    "\n",
    "# Fit classifier\n",
    "bc_lr_clf = LogisticRegression(random_state=RD_STATE).fit(bc_X_train_scaled, bc_y_train)\n",
    "\n",
    "pt_lr_clf = LogisticRegression(random_state=RD_STATE).fit(pt_X_train_scaled, pt_y_train['play'])\n",
    "\n",
    "# Print accuracy\n",
    "print(\"Logistic Regression accuracy on breast cancer dataset:\", bc_lr_clf.score(bc_X_test_scaled, bc_y_test))\n",
    "print(\"Logistic Regression accuracy on play tennis dataset:\", pt_lr_clf.score(pt_X_test_scaled, pt_y_test['play']))"
   ]
  },
  {
   "cell_type": "code",
   "execution_count": 269,
   "id": "a3206c60",
   "metadata": {},
   "outputs": [
    {
     "name": "stdout",
     "output_type": "stream",
     "text": [
      "Neural Network accuracy on breast cancer dataset: 0.9473684210526315\n",
      "Neural Network accuracy on play tennis dataset: 1.0\n"
     ]
    }
   ],
   "source": [
    "# Neural Network: Multi-Layer Perceptron Model\n",
    "\n",
    "# Fit classifier\n",
    "bc_mlp_clf = MLPClassifier(random_state=RD_STATE, max_iter=1000).fit(bc_X_train, bc_y_train)\n",
    "\n",
    "pt_mlp_clf = MLPClassifier(random_state=RD_STATE, max_iter=1000).fit(pt_X_train, pt_y_train['play'])\n",
    "\n",
    "# Print accuracy\n",
    "print(\"Neural Network accuracy on breast cancer dataset:\", bc_mlp_clf.score(bc_X_test, bc_y_test))\n",
    "print(\"Neural Network accuracy on play tennis dataset:\", pt_mlp_clf.score(pt_X_test, pt_y_test['play']))"
   ]
  },
  {
   "cell_type": "code",
   "execution_count": 270,
   "id": "f0b39ed1",
   "metadata": {},
   "outputs": [
    {
     "name": "stdout",
     "output_type": "stream",
     "text": [
      "SVM accuracy on breast cancer dataset: 0.9736842105263158\n",
      "SVM accuracy on play tennis dataset: 1.0\n"
     ]
    }
   ],
   "source": [
    "# Support Vector Machine: C-Support Vector Classification\n",
    "\n",
    "# Data preprocessing: normalisasi data agar setiap feature memiliki orde magnituda yang sama\n",
    "bc_scaler = StandardScaler().fit(bc_data.data)\n",
    "bc_X_train_scaled = bc_scaler.transform(bc_X_train)\n",
    "bc_X_test_scaled = bc_scaler.transform(bc_X_test)\n",
    "\n",
    "pt_scaler = StandardScaler().fit(pt_df.iloc[:, 1:-1])\n",
    "pt_X_train_scaled = pt_scaler.transform(pt_X_train)\n",
    "pt_X_test_scaled = pt_scaler.transform(pt_X_test)\n",
    "\n",
    "# Fit classifier\n",
    "bc_svc_clf = SVC(random_state=RD_STATE, gamma='auto').fit(bc_X_train_scaled, bc_y_train)\n",
    "\n",
    "pt_svc_clf = SVC(random_state=RD_STATE, gamma='auto').fit(pt_X_train_scaled, pt_y_train['play'])\n",
    "\n",
    "# Print accuracy\n",
    "print(\"SVM accuracy on breast cancer dataset:\", bc_svc_clf.score(bc_X_test_scaled, bc_y_test))\n",
    "print(\"SVM accuracy on play tennis dataset:\", pt_svc_clf.score(pt_X_test_scaled, pt_y_test['play']))"
   ]
  }
 ],
 "metadata": {
  "kernelspec": {
   "display_name": "Python 3 (ipykernel)",
   "language": "python",
   "name": "python3"
  },
  "language_info": {
   "codemirror_mode": {
    "name": "ipython",
    "version": 3
   },
   "file_extension": ".py",
   "mimetype": "text/x-python",
   "name": "python",
   "nbconvert_exporter": "python",
   "pygments_lexer": "ipython3",
   "version": "3.9.5"
  }
 },
 "nbformat": 4,
 "nbformat_minor": 5
}
