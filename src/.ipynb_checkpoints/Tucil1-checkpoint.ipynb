{
 "cells": [
  {
   "cell_type": "code",
   "execution_count": null,
   "id": "64f97387",
   "metadata": {},
   "outputs": [],
   "source": []
  },
  {
   "cell_type": "code",
   "execution_count": 10,
   "id": "720a12f3",
   "metadata": {},
   "outputs": [],
   "source": [
    "from sklearn.datasets import load_breast_cancer\n",
    "\n",
    "from sklearn.model_selection import train_test_split\n",
    "from sklearn.preprocessing import StandardScaler, LabelEncoder\n",
    "from sklearn.metrics import f1_score\n",
    "\n",
    "from sklearn.linear_model import LogisticRegression\n",
    "from sklearn.neural_network import MLPClassifier\n",
    "from sklearn.svm import SVC\n",
    "\n",
    "import matplotlib.pyplot as plt\n",
    "\n",
    "import pandas as pd\n",
    "\n",
    "import numpy as np"
   ]
  },
  {
   "cell_type": "code",
   "execution_count": 9,
   "id": "b8d62405",
   "metadata": {},
   "outputs": [],
   "source": [
    "# Set random state for project\n",
    "RD_STATE = 1\n",
    "\n",
    "# Load breast cancer dataset\n",
    "bc_data = load_breast_cancer()\n",
    "\n",
    "# Pisahkan menjadi training set (80%) dan testing set (20%)\n",
    "bc_X_train, bc_X_test, bc_y_train, bc_y_test = train_test_split(bc_data.data, bc_data.target, test_size=0.2, random_state=RD_STATE)"
   ]
  },
  {
   "cell_type": "code",
   "execution_count": 3,
   "id": "26a152eb",
   "metadata": {},
   "outputs": [],
   "source": [
    "# Load play tennis dataset\n",
    "pt_df_raw = pd.read_csv(\"play_tennis.csv\")\n",
    "pt_df = pt_df_raw.copy()\n",
    "\n",
    "# Label encoding\n",
    "# Karena data play tennis bentuknya kategorikal nominal,\n",
    "# maka harus diubah menjadi bentuk numerik yang bisa diproses oleh model machine learning numerik\n",
    "le = LabelEncoder()\n",
    "pt_classes = {}\n",
    "for column in pt_df.columns:\n",
    "    le.fit(pt_df[column])\n",
    "    pt_df[column] = le.transform(pt_df[column])\n",
    "    pt_classes[column] = le.classes_\n",
    "pt_X_train, pt_X_test, pt_y_train, pt_y_test = train_test_split(pt_df[['outlook', 'temp', 'humidity', 'wind']], pt_df[['play']], test_size=0.2, random_state=RD_STATE)"
   ]
  },
  {
   "cell_type": "code",
   "execution_count": 4,
   "id": "bebaa1f8",
   "metadata": {},
   "outputs": [
    {
     "name": "stdout",
     "output_type": "stream",
     "text": [
      "Logistic Regression Performance:\n",
      "• Breast cancer dataset\n",
      "\tAccuracy:  0.9736842105263158\n",
      "\tf1_score:  0.9793103448275863\n",
      "• Play tennis dataset\n",
      "\tAccuracy:  0.6666666666666666\n",
      "\tf1_score:  0.8\n"
     ]
    }
   ],
   "source": [
    "# Logistic Regression\n",
    "\n",
    "# Data preprocessing: normalisasi data agar setiap feature memiliki orde magnituda yang sama\n",
    "bc_scaler = StandardScaler().fit(bc_data.data)\n",
    "bc_X_train_scaled = bc_scaler.transform(bc_X_train)\n",
    "bc_X_test_scaled = bc_scaler.transform(bc_X_test)\n",
    "\n",
    "pt_scaler = StandardScaler().fit(pt_df[['outlook', 'temp', 'humidity', 'wind']])\n",
    "pt_X_train_scaled = pt_scaler.transform(pt_X_train)\n",
    "pt_X_test_scaled = pt_scaler.transform(pt_X_test)\n",
    "\n",
    "# Fit classifier\n",
    "bc_lr_clf = LogisticRegression(random_state=RD_STATE).fit(bc_X_train_scaled, bc_y_train)\n",
    "\n",
    "pt_lr_clf = LogisticRegression(random_state=RD_STATE).fit(pt_X_train_scaled, pt_y_train['play'])\n",
    "\n",
    "# Print accuracy dan nilai f1\n",
    "print(\"Logistic Regression Performance:\")\n",
    "print(\"• Breast cancer dataset\")\n",
    "print(\"\\tAccuracy: \", bc_lr_clf.score(bc_X_test_scaled, bc_y_test))\n",
    "print(\"\\tf1_score: \", f1_score(bc_y_test, bc_lr_clf.predict(bc_X_test_scaled)))\n",
    "print(\"• Play tennis dataset\")\n",
    "print(\"\\tAccuracy: \", pt_lr_clf.score(pt_X_test_scaled, pt_y_test['play']))\n",
    "print(\"\\tf1_score: \", f1_score(pt_y_test['play'], pt_lr_clf.predict(pt_X_test_scaled)))"
   ]
  },
  {
   "cell_type": "markdown",
   "id": "5e3c62a9",
   "metadata": {},
   "source": [
    "\n",
    "\n",
    "Kinerja logistic regression pada dataset breast cancer cukup baik, accuracy 97% dan nilai f1 98%. Sementara itu, play tennis dataset memiliki accuracy 66.7% yang cukup buruk dan nilai f1 80% yang rata-rata. Namun ini karena ukuran test set play tennis cukup kecil, hanya 3, dan training set yang relatif kecil, hanya 11. Karena nilai variance dataset kecil akan condong lebih besar daripada variance dataset besar, maka akan terdapat noise yang mengganggu hasil analisis kinerja. Sebagai perbandingan, dataset breast cancer memiliki ukuran training set 455 dan test set 114."
   ]
  },
  {
   "cell_type": "code",
   "execution_count": 12,
   "id": "efc53f25",
   "metadata": {},
   "outputs": [],
   "source": [
    "def bx(coefs, intercept, xs):\n",
    "    return np.dot(coefs, xs)[0]+intercept\n",
    "\n",
    "def logit(coefs, xs):\n",
    "    return "
   ]
  },
  {
   "cell_type": "code",
   "execution_count": 14,
   "id": "3c1a45d8",
   "metadata": {},
   "outputs": [
    {
     "data": {
      "text/plain": [
       "[array([1.37073348]),\n",
       " array([-5.00391821]),\n",
       " array([4.29131023]),\n",
       " array([-5.58291113]),\n",
       " array([-2.3672455]),\n",
       " array([-5.44493634]),\n",
       " array([-10.17832645]),\n",
       " array([-1.64833183]),\n",
       " array([4.61215071]),\n",
       " array([3.23010881]),\n",
       " array([6.39042378]),\n",
       " array([-6.34321282]),\n",
       " array([-4.33335202]),\n",
       " array([6.04178544]),\n",
       " array([0.74760007]),\n",
       " array([2.57575461]),\n",
       " array([7.16854809]),\n",
       " array([4.30742728]),\n",
       " array([7.23413819]),\n",
       " array([-10.0749762]),\n",
       " array([5.75738504]),\n",
       " array([5.39752296]),\n",
       " array([-10.55554057]),\n",
       " array([4.06487362]),\n",
       " array([-5.59591931]),\n",
       " array([3.32947473]),\n",
       " array([3.4159819]),\n",
       " array([-11.98385762]),\n",
       " array([-29.9328491]),\n",
       " array([-4.32462009]),\n",
       " array([-21.09531431]),\n",
       " array([6.38996674]),\n",
       " array([-11.98924463]),\n",
       " array([-4.00601373]),\n",
       " array([7.0659181]),\n",
       " array([6.8156106]),\n",
       " array([-5.83481423]),\n",
       " array([2.88727732]),\n",
       " array([-1.21613192]),\n",
       " array([5.3541976]),\n",
       " array([7.07292672]),\n",
       " array([1.60985245]),\n",
       " array([3.13340335]),\n",
       " array([7.13081072]),\n",
       " array([4.38113093]),\n",
       " array([-7.63526841]),\n",
       " array([9.44501938]),\n",
       " array([9.39940062]),\n",
       " array([3.31033842]),\n",
       " array([-4.11136774]),\n",
       " array([-9.01391576]),\n",
       " array([-20.57608145]),\n",
       " array([4.12972582]),\n",
       " array([9.39905628]),\n",
       " array([6.39510818]),\n",
       " array([7.18372102]),\n",
       " array([6.36258888]),\n",
       " array([-3.98883769]),\n",
       " array([5.66948343]),\n",
       " array([9.69920206]),\n",
       " array([10.00068295]),\n",
       " array([-9.59685223]),\n",
       " array([4.32054769]),\n",
       " array([4.11191366]),\n",
       " array([6.35377773]),\n",
       " array([6.24030427]),\n",
       " array([6.69099702]),\n",
       " array([-13.90761618]),\n",
       " array([8.926721]),\n",
       " array([6.55931525]),\n",
       " array([9.78247919]),\n",
       " array([6.77562636]),\n",
       " array([2.18061374]),\n",
       " array([-12.79138025]),\n",
       " array([10.59774589]),\n",
       " array([-17.85676854]),\n",
       " array([-1.36779674]),\n",
       " array([1.67474474]),\n",
       " array([8.78278852]),\n",
       " array([-7.98367545]),\n",
       " array([6.67732991]),\n",
       " array([-12.58605728]),\n",
       " array([9.85119938]),\n",
       " array([-11.21085587]),\n",
       " array([6.02994702]),\n",
       " array([7.36477565]),\n",
       " array([-4.56000864]),\n",
       " array([3.44647613]),\n",
       " array([-7.41647739]),\n",
       " array([5.85101251]),\n",
       " array([3.46043766]),\n",
       " array([-6.15287704]),\n",
       " array([5.34511421]),\n",
       " array([11.74391822]),\n",
       " array([-13.58157914]),\n",
       " array([-3.30734575]),\n",
       " array([10.73293562]),\n",
       " array([1.71656572]),\n",
       " array([7.37477156]),\n",
       " array([6.5418049]),\n",
       " array([3.77441811]),\n",
       " array([7.27587958]),\n",
       " array([10.10403717]),\n",
       " array([1.57838452]),\n",
       " array([3.9414602]),\n",
       " array([4.9901192]),\n",
       " array([10.83312639]),\n",
       " array([7.71679762]),\n",
       " array([-6.73909978]),\n",
       " array([-5.83238256]),\n",
       " array([-8.45577034]),\n",
       " array([-0.38162624]),\n",
       " array([1.59377299]),\n",
       " array([8.17343521])]"
      ]
     },
     "execution_count": 14,
     "metadata": {},
     "output_type": "execute_result"
    }
   ],
   "source": [
    "bc_lr_bxs = [bx(bc_lr_clf.coef_, x) for x in bc_X_test_scaled]\n",
    "bc_lr_bxs"
   ]
  },
  {
   "cell_type": "code",
   "execution_count": null,
   "id": "5ed6b29a",
   "metadata": {},
   "outputs": [],
   "source": []
  },
  {
   "cell_type": "code",
   "execution_count": 5,
   "id": "a3206c60",
   "metadata": {},
   "outputs": [
    {
     "name": "stdout",
     "output_type": "stream",
     "text": [
      "Neural Network Performance:\n",
      "• Breast cancer dataset\n",
      "\tAccuracy:  0.9473684210526315\n",
      "\tf1_score:  0.9594594594594595\n",
      "• Play tennis dataset\n",
      "\tAccuracy:  1.0\n",
      "\tf1_score:  1.0\n"
     ]
    }
   ],
   "source": [
    "# Neural Network: Multi-Layer Perceptron Model\n",
    "\n",
    "# Fit classifier\n",
    "bc_mlp_clf = MLPClassifier(random_state=RD_STATE, max_iter=1000).fit(bc_X_train, bc_y_train)\n",
    "\n",
    "pt_mlp_clf = MLPClassifier(random_state=RD_STATE, max_iter=1000).fit(pt_X_train, pt_y_train['play'])\n",
    "\n",
    "# Print accuracy dan nilai f1\n",
    "print(\"Neural Network Performance:\")\n",
    "print(\"• Breast cancer dataset\")\n",
    "print(\"\\tAccuracy: \", bc_mlp_clf.score(bc_X_test, bc_y_test))\n",
    "print(\"\\tf1_score: \", f1_score(bc_y_test, bc_mlp_clf.predict(bc_X_test)))\n",
    "print(\"• Play tennis dataset\")\n",
    "print(\"\\tAccuracy: \", pt_mlp_clf.score(pt_X_test, pt_y_test['play']))\n",
    "print(\"\\tf1_score: \", f1_score(pt_y_test['play'], pt_mlp_clf.predict(pt_X_test)))"
   ]
  },
  {
   "cell_type": "code",
   "execution_count": 6,
   "id": "f0b39ed1",
   "metadata": {},
   "outputs": [
    {
     "name": "stdout",
     "output_type": "stream",
     "text": [
      "SVM Performance:\n",
      "• Breast cancer dataset\n",
      "\tAccuracy:  0.9736842105263158\n",
      "\tf1_score:  0.9793103448275863\n",
      "• Play tennis dataset\n",
      "\tAccuracy:  1.0\n",
      "\tf1_score:  1.0\n"
     ]
    }
   ],
   "source": [
    "# Support Vector Machine: C-Support Vector Classification\n",
    "\n",
    "# Data preprocessing: normalisasi data agar setiap feature memiliki orde magnituda yang sama\n",
    "bc_scaler = StandardScaler().fit(bc_data.data)\n",
    "bc_X_train_scaled = bc_scaler.transform(bc_X_train)\n",
    "bc_X_test_scaled = bc_scaler.transform(bc_X_test)\n",
    "\n",
    "pt_scaler = StandardScaler().fit(pt_df[['outlook', 'temp', 'humidity', 'wind']])\n",
    "pt_X_train_scaled = pt_scaler.transform(pt_X_train)\n",
    "pt_X_test_scaled = pt_scaler.transform(pt_X_test)\n",
    "\n",
    "# Fit classifier\n",
    "bc_svc_clf = SVC(random_state=RD_STATE, gamma='auto').fit(bc_X_train_scaled, bc_y_train)\n",
    "\n",
    "pt_svc_clf = SVC(random_state=RD_STATE, gamma='auto').fit(pt_X_train_scaled, pt_y_train['play'])\n",
    "\n",
    "# Print accuracy dan nilai f1\n",
    "print(\"SVM Performance:\")\n",
    "print(\"• Breast cancer dataset\")\n",
    "print(\"\\tAccuracy: \", bc_svc_clf.score(bc_X_test_scaled, bc_y_test))\n",
    "print(\"\\tf1_score: \", f1_score(bc_y_test, bc_svc_clf.predict(bc_X_test_scaled)))\n",
    "print(\"• Play tennis dataset\")\n",
    "print(\"\\tAccuracy: \", pt_svc_clf.score(pt_X_test_scaled, pt_y_test['play']))\n",
    "print(\"\\tf1_score: \", f1_score(pt_y_test['play'], pt_svc_clf.predict(pt_X_test_scaled)))"
   ]
  }
 ],
 "metadata": {
  "kernelspec": {
   "display_name": "Python 3 (ipykernel)",
   "language": "python",
   "name": "python3"
  },
  "language_info": {
   "codemirror_mode": {
    "name": "ipython",
    "version": 3
   },
   "file_extension": ".py",
   "mimetype": "text/x-python",
   "name": "python",
   "nbconvert_exporter": "python",
   "pygments_lexer": "ipython3",
   "version": "3.9.5"
  }
 },
 "nbformat": 4,
 "nbformat_minor": 5
}
