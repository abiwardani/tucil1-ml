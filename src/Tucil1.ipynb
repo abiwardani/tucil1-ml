{
 "cells": [
  {
   "cell_type": "code",
   "execution_count": null,
   "id": "1b363ee6",
   "metadata": {},
   "outputs": [],
   "source": []
  },
  {
   "cell_type": "code",
   "execution_count": 1,
   "id": "720a12f3",
   "metadata": {},
   "outputs": [],
   "source": [
    "from sklearn.datasets import load_breast_cancer\n",
    "\n",
    "from sklearn.model_selection import train_test_split\n",
    "from sklearn.preprocessing import StandardScaler, LabelEncoder\n",
    "from sklearn.metrics import f1_score\n",
    "\n",
    "from sklearn.linear_model import LogisticRegression\n",
    "from sklearn.neural_network import MLPClassifier\n",
    "from sklearn.svm import SVC\n",
    "\n",
    "import matplotlib.pyplot as plt\n",
    "\n",
    "import pandas as pd\n",
    "\n"
   ]
  },
  {
   "cell_type": "code",
   "execution_count": 2,
   "id": "b8d62405",
   "metadata": {},
   "outputs": [],
   "source": [
    "# Set random state for project\n",
    "RD_STATE = 1\n",
    "\n",
    "# Load breast cancer dataset\n",
    "bc_data = load_breast_cancer()\n",
    "\n",
    "# Pisahkan menjadi training set (80%) dan testing set (20%)\n",
    "bc_X_train, bc_X_test, bc_y_train, bc_y_test = train_test_split(bc_data.data, bc_data.target, test_size=0.2, random_state=RD_STATE)"
   ]
  },
  {
   "cell_type": "code",
   "execution_count": 3,
   "id": "26a152eb",
   "metadata": {},
   "outputs": [],
   "source": [
    "# Load play tennis dataset\n",
    "pt_df_raw = pd.read_csv(\"play_tennis.csv\")\n",
    "pt_df = pt_df_raw.copy()\n",
    "\n",
    "# Label encoding\n",
    "le = LabelEncoder()\n",
    "pt_classes = {}\n",
    "for column in pt_df.columns:\n",
    "    le.fit(pt_df[column])\n",
    "    pt_df[column] = le.transform(pt_df[column])\n",
    "    pt_classes[column] = le.classes_\n",
    "pt_X_train, pt_X_test, pt_y_train, pt_y_test = train_test_split(pt_df[['outlook', 'temp', 'humidity', 'wind']], pt_df[['play']], test_size=0.2, random_state=RD_STATE)"
   ]
  },
  {
   "cell_type": "code",
   "execution_count": 4,
   "id": "bebaa1f8",
   "metadata": {},
   "outputs": [
    {
     "name": "stdout",
     "output_type": "stream",
     "text": [
      "Logistic Regression Performance:\n",
      "• Breast cancer dataset\n",
      "\tAccuracy:  0.9736842105263158\n",
      "\tf1_score:  0.9793103448275863\n",
      "• Play tennis dataset\n",
      "\tAccuracy:  0.6666666666666666\n",
      "\tf1_score:  0.8\n"
     ]
    }
   ],
   "source": [
    "# Logistic Regression\n",
    "\n",
    "# Data preprocessing: normalisasi data agar setiap feature memiliki orde magnituda yang sama\n",
    "bc_scaler = StandardScaler().fit(bc_data.data)\n",
    "bc_X_train_scaled = bc_scaler.transform(bc_X_train)\n",
    "bc_X_test_scaled = bc_scaler.transform(bc_X_test)\n",
    "\n",
    "pt_scaler = StandardScaler().fit(pt_df[['outlook', 'temp', 'humidity', 'wind']])\n",
    "pt_X_train_scaled = pt_scaler.transform(pt_X_train)\n",
    "pt_X_test_scaled = pt_scaler.transform(pt_X_test)\n",
    "\n",
    "# Fit classifier\n",
    "bc_lr_clf = LogisticRegression(random_state=RD_STATE).fit(bc_X_train_scaled, bc_y_train)\n",
    "\n",
    "pt_lr_clf = LogisticRegression(random_state=RD_STATE).fit(pt_X_train_scaled, pt_y_train['play'])\n",
    "\n",
    "# Print accuracy dan nilai f1\n",
    "print(\"Logistic Regression Performance:\")\n",
    "print(\"• Breast cancer dataset\")\n",
    "print(\"\\tAccuracy: \", bc_lr_clf.score(bc_X_test_scaled, bc_y_test))\n",
    "print(\"\\tf1_score: \", f1_score(bc_y_test, bc_lr_clf.predict(bc_X_test_scaled)))\n",
    "print(\"• Play tennis dataset\")\n",
    "print(\"\\tAccuracy: \", pt_lr_clf.score(pt_X_test_scaled, pt_y_test['play']))\n",
    "print(\"\\tf1_score: \", f1_score(pt_y_test['play'], pt_lr_clf.predict(pt_X_test_scaled)))"
   ]
  },
  {
   "cell_type": "code",
   "execution_count": 5,
   "id": "a3206c60",
   "metadata": {},
   "outputs": [
    {
     "name": "stdout",
     "output_type": "stream",
     "text": [
      "Neural Network Performance:\n",
      "• Breast cancer dataset\n",
      "\tAccuracy:  0.9473684210526315\n",
      "\tf1_score:  0.9594594594594595\n",
      "• Play tennis dataset\n",
      "\tAccuracy:  1.0\n",
      "\tf1_score:  1.0\n"
     ]
    }
   ],
   "source": [
    "# Neural Network: Multi-Layer Perceptron Model\n",
    "\n",
    "# Fit classifier\n",
    "bc_mlp_clf = MLPClassifier(random_state=RD_STATE, max_iter=1000).fit(bc_X_train, bc_y_train)\n",
    "\n",
    "pt_mlp_clf = MLPClassifier(random_state=RD_STATE, max_iter=1000).fit(pt_X_train, pt_y_train['play'])\n",
    "\n",
    "# Print accuracy dan nilai f1\n",
    "print(\"Neural Network Performance:\")\n",
    "print(\"• Breast cancer dataset\")\n",
    "print(\"\\tAccuracy: \", bc_mlp_clf.score(bc_X_test, bc_y_test))\n",
    "print(\"\\tf1_score: \", f1_score(bc_y_test, bc_mlp_clf.predict(bc_X_test)))\n",
    "print(\"• Play tennis dataset\")\n",
    "print(\"\\tAccuracy: \", pt_mlp_clf.score(pt_X_test, pt_y_test['play']))\n",
    "print(\"\\tf1_score: \", f1_score(pt_y_test['play'], pt_mlp_clf.predict(pt_X_test)))"
   ]
  },
  {
   "cell_type": "code",
   "execution_count": 6,
   "id": "f0b39ed1",
   "metadata": {},
   "outputs": [
    {
     "name": "stdout",
     "output_type": "stream",
     "text": [
      "SVM Performance:\n",
      "• Breast cancer dataset\n",
      "\tAccuracy:  0.9736842105263158\n",
      "\tf1_score:  0.9793103448275863\n",
      "• Play tennis dataset\n",
      "\tAccuracy:  0.6666666666666666\n",
      "\tf1_score:  0.8\n"
     ]
    }
   ],
   "source": [
    "# Support Vector Machine: C-Support Vector Classification\n",
    "\n",
    "# Data preprocessing: normalisasi data agar setiap feature memiliki orde magnituda yang sama\n",
    "bc_scaler = StandardScaler().fit(bc_data.data)\n",
    "bc_X_train_scaled = bc_scaler.transform(bc_X_train)\n",
    "bc_X_test_scaled = bc_scaler.transform(bc_X_test)\n",
    "\n",
    "pt_scaler = StandardScaler().fit(pt_df[['outlook', 'temp', 'humidity', 'wind']])\n",
    "pt_X_train_scaled = pt_scaler.transform(pt_X_train)\n",
    "pt_X_test_scaled = pt_scaler.transform(pt_X_test)\n",
    "\n",
    "# Fit classifier\n",
    "bc_svc_clf = SVC(random_state=RD_STATE, gamma='auto').fit(bc_X_train_scaled, bc_y_train)\n",
    "\n",
    "pt_svc_clf = SVC(random_state=RD_STATE, gamma='auto').fit(pt_X_train_scaled, pt_y_train['play'])\n",
    "\n",
    "# Print accuracy dan nilai f1\n",
    "print(\"SVM Performance:\")\n",
    "print(\"• Breast cancer dataset\")\n",
    "print(\"\\tAccuracy: \", bc_lr_clf.score(bc_X_test_scaled, bc_y_test))\n",
    "print(\"\\tf1_score: \", f1_score(bc_y_test, bc_lr_clf.predict(bc_X_test_scaled)))\n",
    "print(\"• Play tennis dataset\")\n",
    "print(\"\\tAccuracy: \", pt_lr_clf.score(pt_X_test_scaled, pt_y_test['play']))\n",
    "print(\"\\tf1_score: \", f1_score(pt_y_test['play'], pt_lr_clf.predict(pt_X_test_scaled)))"
   ]
  }
 ],
 "metadata": {
  "kernelspec": {
   "display_name": "Python 3 (ipykernel)",
   "language": "python",
   "name": "python3"
  },
  "language_info": {
   "codemirror_mode": {
    "name": "ipython",
    "version": 3
   },
   "file_extension": ".py",
   "mimetype": "text/x-python",
   "name": "python",
   "nbconvert_exporter": "python",
   "pygments_lexer": "ipython3",
   "version": "3.9.5"
  }
 },
 "nbformat": 4,
 "nbformat_minor": 5
}
