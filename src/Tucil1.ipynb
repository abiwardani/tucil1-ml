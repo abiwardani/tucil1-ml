{
 "cells": [
  {
   "cell_type": "code",
   "execution_count": null,
   "id": "64f97387",
   "metadata": {},
   "outputs": [],
   "source": []
  },
  {
   "cell_type": "code",
   "execution_count": 10,
   "id": "720a12f3",
   "metadata": {},
   "outputs": [],
   "source": [
    "from sklearn.datasets import load_breast_cancer\n",
    "\n",
    "from sklearn.model_selection import train_test_split\n",
    "from sklearn.preprocessing import StandardScaler, LabelEncoder\n",
    "from sklearn.metrics import f1_score\n",
    "\n",
    "from sklearn.linear_model import LogisticRegression\n",
    "from sklearn.neural_network import MLPClassifier\n",
    "from sklearn.svm import SVC\n",
    "\n",
    "import matplotlib.pyplot as plt\n",
    "\n",
    "import pandas as pd\n",
    "\n",
    "import numpy as np"
   ]
  },
  {
   "cell_type": "code",
   "execution_count": 9,
   "id": "b8d62405",
   "metadata": {},
   "outputs": [],
   "source": [
    "# Set random state for project\n",
    "RD_STATE = 1\n",
    "\n",
    "# Load breast cancer dataset\n",
    "bc_data = load_breast_cancer()\n",
    "\n",
    "# Pisahkan menjadi training set (80%) dan testing set (20%)\n",
    "bc_X_train, bc_X_test, bc_y_train, bc_y_test = train_test_split(bc_data.data, bc_data.target, test_size=0.2, random_state=RD_STATE)"
   ]
  },
  {
   "cell_type": "code",
   "execution_count": 3,
   "id": "26a152eb",
   "metadata": {},
   "outputs": [],
   "source": [
    "# Load play tennis dataset\n",
    "pt_df_raw = pd.read_csv(\"play_tennis.csv\")\n",
    "pt_df = pt_df_raw.copy()\n",
    "\n",
    "# Label encoding\n",
    "# Karena data play tennis bentuknya kategorikal nominal,\n",
    "# maka harus diubah menjadi bentuk numerik yang bisa diproses oleh model machine learning numerik\n",
    "le = LabelEncoder()\n",
    "pt_classes = {}\n",
    "for column in pt_df.columns:\n",
    "    le.fit(pt_df[column])\n",
    "    pt_df[column] = le.transform(pt_df[column])\n",
    "    pt_classes[column] = le.classes_\n",
    "pt_X_train, pt_X_test, pt_y_train, pt_y_test = train_test_split(pt_df[['outlook', 'temp', 'humidity', 'wind']], pt_df[['play']], test_size=0.2, random_state=RD_STATE)"
   ]
  },
  {
   "cell_type": "code",
   "execution_count": 4,
   "id": "bebaa1f8",
   "metadata": {},
   "outputs": [
    {
     "name": "stdout",
     "output_type": "stream",
     "text": [
      "Logistic Regression Performance:\n",
      "• Breast cancer dataset\n",
      "\tAccuracy:  0.9736842105263158\n",
      "\tf1_score:  0.9793103448275863\n",
      "• Play tennis dataset\n",
      "\tAccuracy:  0.6666666666666666\n",
      "\tf1_score:  0.8\n"
     ]
    }
   ],
   "source": [
    "# Logistic Regression\n",
    "\n",
    "# Data preprocessing: normalisasi data agar setiap feature memiliki orde magnituda yang sama\n",
    "bc_scaler = StandardScaler().fit(bc_data.data)\n",
    "bc_X_train_scaled = bc_scaler.transform(bc_X_train)\n",
    "bc_X_test_scaled = bc_scaler.transform(bc_X_test)\n",
    "\n",
    "pt_scaler = StandardScaler().fit(pt_df[['outlook', 'temp', 'humidity', 'wind']])\n",
    "pt_X_train_scaled = pt_scaler.transform(pt_X_train)\n",
    "pt_X_test_scaled = pt_scaler.transform(pt_X_test)\n",
    "\n",
    "# Fit classifier\n",
    "bc_lr_clf = LogisticRegression(random_state=RD_STATE).fit(bc_X_train_scaled, bc_y_train)\n",
    "\n",
    "pt_lr_clf = LogisticRegression(random_state=RD_STATE).fit(pt_X_train_scaled, pt_y_train['play'])\n",
    "\n",
    "# Print accuracy dan nilai f1\n",
    "print(\"Logistic Regression Performance:\")\n",
    "print(\"• Breast cancer dataset\")\n",
    "print(\"\\tAccuracy: \", bc_lr_clf.score(bc_X_test_scaled, bc_y_test))\n",
    "print(\"\\tf1_score: \", f1_score(bc_y_test, bc_lr_clf.predict(bc_X_test_scaled)))\n",
    "print(\"• Play tennis dataset\")\n",
    "print(\"\\tAccuracy: \", pt_lr_clf.score(pt_X_test_scaled, pt_y_test['play']))\n",
    "print(\"\\tf1_score: \", f1_score(pt_y_test['play'], pt_lr_clf.predict(pt_X_test_scaled)))"
   ]
  },
  {
   "cell_type": "markdown",
   "id": "0a18651a",
   "metadata": {},
   "source": [
    "Logistic regression untuk dua kelas melibatkan fungsi logit yang menggunakan nilai dot product dari vektor bobot b dengan vektor inputs x ditambah bias sebagai parameter exponennya. Dalam bentuk rumus:\n",
    "\n",
    " • y_pred = 1/(1+exp(-(∑(b_i.x_i)+b_0)))\n",
    "\n",
    "Training loop pada model logistic regression merupakan proses perhitungan cost dari hasil prediksi terhadap label sebetulnya, kemudian memperbarui nilai vektor bobot b, misal dengan stochastic gradient descent menggunakan rumus b_j = b_j + a * (y_i-p_i) * x_ij, sehingga prediksi training set converge terhadap nilai asli.\n",
    "\n",
    "Kinerja logistic regression pada dataset breast cancer cukup baik, accuracy 97% dan nilai f1 98%. Sementara itu, play tennis dataset memiliki accuracy 66.7% yang cukup buruk dan nilai f1 80% yang rata-rata. Namun ini karena ukuran test set play tennis cukup kecil, hanya 3, dan training set yang relatif kecil, hanya 11. Sebagai perbandingan, dataset breast cancer memiliki ukuran training set 455 dan test set 114. Oleh karena itu, terdapat noise yang mengganggu hasil analisis kinerja. Training set kecil menyebabkan kemungkinan overfit meningkat, dan testing set kecil berarti variance dataset condong lebih besar. Jika dataset lebih besar, maka accuracy classifier pada dataset play tennis kemungkinan berubah menjadi tidak lagi 66.7%."
   ]
  },
  {
   "cell_type": "code",
   "execution_count": 55,
   "id": "a3206c60",
   "metadata": {},
   "outputs": [
    {
     "name": "stdout",
     "output_type": "stream",
     "text": [
      "Neural Network Performance:\n",
      "• Breast cancer dataset\n",
      "\tAccuracy:  0.9473684210526315\n",
      "\tf1_score:  0.9594594594594595\n",
      "• Play tennis dataset\n",
      "\tAccuracy:  1.0\n",
      "\tf1_score:  1.0\n"
     ]
    }
   ],
   "source": [
    "# Neural Network: Multi-Layer Perceptron Model\n",
    "\n",
    "# Fit classifier\n",
    "bc_mlp_clf = MLPClassifier(random_state=RD_STATE, activation='relu', max_iter=1000, hidden_layer_sizes=(100,)).fit(bc_X_train, bc_y_train)\n",
    "1\n",
    "pt_mlp_clf = MLPClassifier(random_state=RD_STATE, activation='relu', max_iter=1000, hidden_layer_sizes=(100,)).fit(pt_X_train, pt_y_train['play'])\n",
    "\n",
    "# Print accuracy dan nilai f1\n",
    "print(\"Neural Network Performance:\")\n",
    "print(\"• Breast cancer dataset\")\n",
    "print(\"\\tAccuracy: \", bc_mlp_clf.score(bc_X_test, bc_y_test))\n",
    "print(\"\\tf1_score: \", f1_score(bc_y_test, bc_mlp_clf.predict(bc_X_test)))\n",
    "print(\"• Play tennis dataset\")\n",
    "print(\"\\tAccuracy: \", pt_mlp_clf.score(pt_X_test, pt_y_test['play']))\n",
    "print(\"\\tf1_score: \", f1_score(pt_y_test['play'], pt_mlp_clf.predict(pt_X_test)))"
   ]
  },
  {
   "cell_type": "code",
   "execution_count": 56,
   "id": "e69481e6",
   "metadata": {},
   "outputs": [
    {
     "name": "stdout",
     "output_type": "stream",
     "text": [
      "Parameter MLP dataset breast cancer:\n",
      "• Activation function\t: relu\n",
      "• Learning rate\t\t: 0.001\n",
      "• Max iterasi\t\t: 1000\n",
      "• Jumlah hidden layer\t: 100\n",
      "\n",
      "Parameter MLP dataset play tennis:\n",
      "• Activation function\t: relu\n",
      "• Learning rate\t\t: 0.001\n",
      "• Max iterasi\t\t: 1000\n",
      "• Jumlah hidden layer\t: 100\n"
     ]
    }
   ],
   "source": [
    "bc_mlp_params = bc_mlp_clf.get_params()\n",
    "pt_mlp_params = pt_mlp_clf.get_params()\n",
    "\n",
    "print(\"Parameter MLP dataset breast cancer:\")\n",
    "print(\"• Activation function\\t:\", bc_mlp_params['activation'])\n",
    "print(\"• Learning rate\\t\\t:\", bc_mlp_params['learning_rate_init'])\n",
    "print(\"• Max iterasi\\t\\t:\", bc_mlp_params['max_iter'])\n",
    "print(\"• Jumlah hidden layer\\t:\", bc_mlp_params['hidden_layer_sizes'][0])\n",
    "print(\"\\nParameter MLP dataset play tennis:\")\n",
    "print(\"• Activation function\\t:\", pt_mlp_params['activation'])\n",
    "print(\"• Learning rate\\t\\t:\", pt_mlp_params['learning_rate_init'])\n",
    "print(\"• Max iterasi\\t\\t:\", pt_mlp_params['max_iter'])\n",
    "print(\"• Jumlah hidden layer\\t:\", pt_mlp_params['hidden_layer_sizes'][0])"
   ]
  },
  {
   "cell_type": "markdown",
   "id": "9e058a95",
   "metadata": {},
   "source": [
    "Multilayer Perceptron merupakan jenis Artificial Neural Network, sebuah model machine learning yang menggunakan node perceptron sebagai blok pembangun modelnya. Dalam MLP, terdapat tiga jenis layer node: input layer, hidden layer, dan output layer. Input layer berjumlah sebanyak parameter input, kemudian nilai setiap node pada layer berikutnya dipengaruhi oleh node-node input berdasarkan bobot tertentu. Untuk suatu node yang dipengaruhi oleh nilai node pada layer sebelumnya x_ij, nilai terbobotnya merupakan ∑(∑(w_ij * x_ij) + b_i). Nilai ini kemudian dilalui sebuah fungsi aktivasi, yang digunakan untuk memetakan nilai terbobot ke suatu rentang tertentu. Hasil prediksi dari output layer digunakan untuk menghitung cost dan memperbarui nilai bobot layer terakhir sebelum output layer. Nilai baru pada layer tersebut digunakan kembali untuk menghitung cost dan memberbarui nilai bobot layer sebelumnya, dan seterusnya hingga sampai ke layer pertama.\n",
    "\n",
    "Terdapat beberapa jenis fungsi aktivasi seperti fungsi sigmoid (seperti yang digunakan di logistic regression), fungsi hyperbolic tan, ReLU, dan fungsi identitas. Fungsi sigmoid memiliki bentuk S horizontal yang memetakan nilai terbobot menjadi 0 atau 1. Fungsi tanh memetakan nilai terbobot menjadi -1 atau 1, kemudian fungsi ReLU memetakan nilai negatif menjadi 0 dan nilai positif tidak diubah, sementara fungsi identitas tidak mengubah nilai terbobot.\n",
    "\n",
    "Dalam tugas ini, fungsi ReLU digunakan. Fungsi ReLU cukup umum untuk digunakan dalam MLP karena menghindari masalah numerik yang dialami fungsi sigmoid dan tanh saat melakukan gradient descent. Berikut rumus fungsi ReLU:\n",
    "\n",
    "• x_ij = max(0, x_ij)\n",
    "\n",
    "Kinerja MLP pada dataset breast cancer dan play tennis cukup baik, dengan accuracy 94.7% dan nilai f1 95.9% pada dataset breast cancer serta accuracy 100% dan nilai f1 100% pada dataset play tennis. Namun karena dataset play tennis cukup kecil, maka terdapat kemungkinan bahwa terdapat noise yang mempengaruhi kinerja classifier MLP-nya."
   ]
  },
  {
   "cell_type": "code",
   "execution_count": 6,
   "id": "f0b39ed1",
   "metadata": {},
   "outputs": [
    {
     "name": "stdout",
     "output_type": "stream",
     "text": [
      "SVM Performance:\n",
      "• Breast cancer dataset\n",
      "\tAccuracy:  0.9736842105263158\n",
      "\tf1_score:  0.9793103448275863\n",
      "• Play tennis dataset\n",
      "\tAccuracy:  1.0\n",
      "\tf1_score:  1.0\n"
     ]
    }
   ],
   "source": [
    "# Support Vector Machine: C-Support Vector Classification\n",
    "\n",
    "# Data preprocessing: normalisasi data agar setiap feature memiliki orde magnituda yang sama\n",
    "bc_scaler = StandardScaler().fit(bc_data.data)\n",
    "bc_X_train_scaled = bc_scaler.transform(bc_X_train)\n",
    "bc_X_test_scaled = bc_scaler.transform(bc_X_test)\n",
    "\n",
    "pt_scaler = StandardScaler().fit(pt_df[['outlook', 'temp', 'humidity', 'wind']])\n",
    "pt_X_train_scaled = pt_scaler.transform(pt_X_train)\n",
    "pt_X_test_scaled = pt_scaler.transform(pt_X_test)\n",
    "\n",
    "# Fit classifier\n",
    "bc_svc_clf = SVC(random_state=RD_STATE, gamma='auto').fit(bc_X_train_scaled, bc_y_train)\n",
    "\n",
    "pt_svc_clf = SVC(random_state=RD_STATE, gamma='auto').fit(pt_X_train_scaled, pt_y_train['play'])\n",
    "\n",
    "# Print accuracy dan nilai f1\n",
    "print(\"SVM Performance:\")\n",
    "print(\"• Breast cancer dataset\")\n",
    "print(\"\\tAccuracy: \", bc_svc_clf.score(bc_X_test_scaled, bc_y_test))\n",
    "print(\"\\tf1_score: \", f1_score(bc_y_test, bc_svc_clf.predict(bc_X_test_scaled)))\n",
    "print(\"• Play tennis dataset\")\n",
    "print(\"\\tAccuracy: \", pt_svc_clf.score(pt_X_test_scaled, pt_y_test['play']))\n",
    "print(\"\\tf1_score: \", f1_score(pt_y_test['play'], pt_svc_clf.predict(pt_X_test_scaled)))"
   ]
  },
  {
   "cell_type": "code",
   "execution_count": 59,
   "id": "aca3cb44",
   "metadata": {},
   "outputs": [
    {
     "name": "stdout",
     "output_type": "stream",
     "text": [
      "Parameter MLP dataset breast cancer:\n",
      "• Penalty parameter\t: 1.0\n",
      "• Kernel\t\t: rbf\n",
      "\n",
      "Parameter MLP dataset play tennis:\n",
      "• Penalty parameter\t: 1.0\n",
      "• Kernel\t\t: rbf\n"
     ]
    }
   ],
   "source": [
    "bc_svc_params = bc_svc_clf.get_params()\n",
    "pt_svc_params = pt_svc_clf.get_params()\n",
    "\n",
    "print(\"Parameter MLP dataset breast cancer:\")\n",
    "print(\"• Penalty parameter\\t:\", bc_svc_params['C'])\n",
    "print(\"• Kernel\\t\\t:\", bc_svc_params['kernel'])\n",
    "print(\"\\nParameter MLP dataset play tennis:\")\n",
    "print(\"• Penalty parameter\\t:\", pt_svc_params['C'])\n",
    "print(\"• Kernel\\t\\t:\", pt_svc_params['kernel'])"
   ]
  },
  {
   "cell_type": "markdown",
   "id": "5e063cee",
   "metadata": {},
   "source": []
  }
 ],
 "metadata": {
  "kernelspec": {
   "display_name": "Python 3 (ipykernel)",
   "language": "python",
   "name": "python3"
  },
  "language_info": {
   "codemirror_mode": {
    "name": "ipython",
    "version": 3
   },
   "file_extension": ".py",
   "mimetype": "text/x-python",
   "name": "python",
   "nbconvert_exporter": "python",
   "pygments_lexer": "ipython3",
   "version": "3.9.5"
  }
 },
 "nbformat": 4,
 "nbformat_minor": 5
}
